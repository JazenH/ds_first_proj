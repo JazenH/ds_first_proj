{
 "cells": [
  {
   "cell_type": "code",
   "execution_count": 2,
   "id": "8fd8c4ce",
   "metadata": {},
   "outputs": [],
   "source": [
    "import pandas as pd\n",
    "\n",
    "df = pd.read_csv('glassdoor_jobs.csv')"
   ]
  },
  {
   "cell_type": "code",
   "execution_count": 3,
   "id": "88aa6877",
   "metadata": {},
   "outputs": [],
   "source": [
    "import numpy as np"
   ]
  },
  {
   "cell_type": "code",
   "execution_count": 4,
   "id": "0bd874e9",
   "metadata": {},
   "outputs": [],
   "source": [
    "#df.shape"
   ]
  },
  {
   "cell_type": "code",
   "execution_count": 5,
   "id": "b590ebb8",
   "metadata": {},
   "outputs": [],
   "source": [
    "#df.dtypes"
   ]
  },
  {
   "cell_type": "code",
   "execution_count": 6,
   "id": "b3c94d3e",
   "metadata": {},
   "outputs": [],
   "source": [
    "#df.head()\n"
   ]
  },
  {
   "cell_type": "code",
   "execution_count": 7,
   "id": "21383a3c",
   "metadata": {},
   "outputs": [],
   "source": [
    "# goal for cleaning\n",
    "# parsing salary\n",
    "# company name text only\n",
    "# state field\n",
    "# age of company\n",
    "# parsing job description (python, etc.)\n"
   ]
  },
  {
   "cell_type": "code",
   "execution_count": 8,
   "id": "cf97b9a5",
   "metadata": {},
   "outputs": [],
   "source": [
    "## parsing salary"
   ]
  },
  {
   "cell_type": "code",
   "execution_count": 9,
   "id": "1c7a21ae",
   "metadata": {},
   "outputs": [],
   "source": [
    "# there are some missings in the rows 'Salary Estimate', extract the valid ones\n",
    "df = df[df['Salary Estimate']!= '-1']"
   ]
  },
  {
   "cell_type": "code",
   "execution_count": 38,
   "id": "cfccbd41",
   "metadata": {},
   "outputs": [],
   "source": [
    "#df.head()\n"
   ]
  },
  {
   "cell_type": "code",
   "execution_count": 11,
   "id": "39714236",
   "metadata": {},
   "outputs": [],
   "source": [
    "# get rid of the () in the 'Salary Estimate' column, by '(', the result is a list, and the first ele is needed.\n",
    "salary = df['Salary Estimate'].apply(lambda x: x.split('(')[0])"
   ]
  },
  {
   "cell_type": "code",
   "execution_count": 31,
   "id": "3e5ac3da",
   "metadata": {},
   "outputs": [],
   "source": [
    "#salary.shape"
   ]
  },
  {
   "cell_type": "code",
   "execution_count": 30,
   "id": "c753df04",
   "metadata": {},
   "outputs": [],
   "source": [
    "#salary.head()"
   ]
  },
  {
   "cell_type": "code",
   "execution_count": 40,
   "id": "62363064",
   "metadata": {},
   "outputs": [],
   "source": [
    "# get rid of K and $ in the salary colomn\n",
    "minus_k = salary.apply(lambda x: x.replace('K','').replace('$',''))"
   ]
  },
  {
   "cell_type": "code",
   "execution_count": 39,
   "id": "76c2500b",
   "metadata": {},
   "outputs": [],
   "source": [
    "#minus_k.head()"
   ]
  },
  {
   "cell_type": "code",
   "execution_count": 16,
   "id": "90f32c5b",
   "metadata": {},
   "outputs": [],
   "source": [
    "# there are some hourly pay and employer_provided pay in the dataframe, to make the dataframe look tight, we need to handle them\n",
    "# add columns that show hourly pay and e pay\n",
    "df['hourly']=df['Salary Estimate'].apply(lambda x: 1 if 'per hour' in x.lower() else 0)\n",
    "df['employer_provided']=df['Salary Estimate'].apply(lambda x: 1 if 'employer_provided' in x.lower() else 0)"
   ]
  },
  {
   "cell_type": "code",
   "execution_count": 17,
   "id": "47f3a60e",
   "metadata": {},
   "outputs": [],
   "source": [
    "# sort the dataframe by 'hourly' column, descendingly, checking that adding hourly column correctly\n",
    "#df.sort_values(by='hourly',ascending=False)"
   ]
  },
  {
   "cell_type": "code",
   "execution_count": 18,
   "id": "a626f49e",
   "metadata": {},
   "outputs": [],
   "source": [
    "# after sorting the target column, re-order the dataframe on the index\n",
    "#df.sort_index()"
   ]
  },
  {
   "cell_type": "code",
   "execution_count": 44,
   "id": "dd57a292",
   "metadata": {},
   "outputs": [],
   "source": [
    "# this piece of code display the entire data frame, even with job description, the function is like a pop out window in spyder\n",
    "#with pd.option_context(\n",
    "    #'display.max_colwidth', None,\n",
    "#                       'display.max_columns', None,\n",
    "#                       'display.max_rows', None):\n",
    "#    display(df)\n",
    "\n",
    "def show_DataFrame(df):\n",
    "    with pd.option_context(\n",
    "    #'display.max_colwidth', None,\n",
    "                       'display.max_columns', None,\n",
    "                       'display.max_rows', None):\n",
    "        display(df)\n"
   ]
  },
  {
   "cell_type": "code",
   "execution_count": 20,
   "id": "f7d86c02",
   "metadata": {},
   "outputs": [],
   "source": [
    "min_hr = minus_k.apply(lambda x: x.lower().replace('per hour','').replace('employer provided salary:',''))"
   ]
  },
  {
   "cell_type": "code",
   "execution_count": 21,
   "id": "3b94d89c",
   "metadata": {},
   "outputs": [],
   "source": [
    "df['min_salary'] = min_hr.apply(lambda x: int(x.split('-')[0]))\n",
    "df['max_salary'] = min_hr.apply(lambda x: int(x.split('-')[1]))"
   ]
  },
  {
   "cell_type": "code",
   "execution_count": 22,
   "id": "ecdc31f3",
   "metadata": {},
   "outputs": [],
   "source": [
    "# this piece of code display the entire data frame, even with job description, the function is like a pop out window in spyder\n",
    "#with pd.option_context(\n",
    "    #'display.max_colwidth', None,\n",
    "#                       'display.max_columns', None,\n",
    "#                       'display.max_rows', None):\n",
    "#    display(df)"
   ]
  },
  {
   "cell_type": "code",
   "execution_count": 24,
   "id": "2ae939e7",
   "metadata": {},
   "outputs": [],
   "source": [
    "df['avg_salary'] =(df.min_salary + df.max_salary)/2"
   ]
  },
  {
   "cell_type": "code",
   "execution_count": 25,
   "id": "8c2c88dc",
   "metadata": {},
   "outputs": [],
   "source": [
    "# #company name text only"
   ]
  },
  {
   "cell_type": "code",
   "execution_count": 36,
   "id": "33f1f67e",
   "metadata": {},
   "outputs": [],
   "source": [
    "# In the video -3 is used, some how in the data the '\\n' didn't word, -4 is used to get rid of the symble\n",
    "df['Company_txt'] = df.apply(lambda x: x['Company Name'] if x['Rating']<0 else x['Company Name'][:-4],axis = 1)"
   ]
  },
  {
   "cell_type": "code",
   "execution_count": null,
   "id": "ce64762d",
   "metadata": {},
   "outputs": [],
   "source": [
    "##state field"
   ]
  },
  {
   "cell_type": "code",
   "execution_count": 49,
   "id": "352dfc01",
   "metadata": {},
   "outputs": [],
   "source": [
    "df['job_state'] = df['Location'].apply(lambda x: x.split(',')[1])"
   ]
  },
  {
   "cell_type": "code",
   "execution_count": 55,
   "id": "7639a4c1",
   "metadata": {},
   "outputs": [],
   "source": [
    "#df.drop(['job state'],axis=1)"
   ]
  },
  {
   "cell_type": "code",
   "execution_count": 65,
   "id": "119cd32e",
   "metadata": {},
   "outputs": [],
   "source": [
    "\n",
    "#show_DataFrame(df)"
   ]
  },
  {
   "cell_type": "code",
   "execution_count": 51,
   "id": "fe129a0e",
   "metadata": {},
   "outputs": [],
   "source": [
    "#df.job_state.value_counts()"
   ]
  },
  {
   "cell_type": "code",
   "execution_count": 56,
   "id": "9709ae51",
   "metadata": {},
   "outputs": [],
   "source": [
    "## age of company"
   ]
  },
  {
   "cell_type": "code",
   "execution_count": 58,
   "id": "f40710f6",
   "metadata": {},
   "outputs": [],
   "source": [
    "df['same_state'] = df.apply(lambda x: 1 if x.Location == x.Headquarters else 0, axis =1)"
   ]
  },
  {
   "cell_type": "code",
   "execution_count": 60,
   "id": "e8e2e374",
   "metadata": {},
   "outputs": [],
   "source": [
    "df['age']=df.Founded.apply(lambda x: x if x<1 else 2023 -x)"
   ]
  },
  {
   "cell_type": "code",
   "execution_count": 62,
   "id": "50954f8e",
   "metadata": {},
   "outputs": [],
   "source": [
    "##paring the job description"
   ]
  },
  {
   "cell_type": "code",
   "execution_count": 71,
   "id": "8af598ec",
   "metadata": {},
   "outputs": [],
   "source": [
    "#df['Job Description'][0]"
   ]
  },
  {
   "cell_type": "code",
   "execution_count": 72,
   "id": "926df942",
   "metadata": {},
   "outputs": [],
   "source": [
    "###python"
   ]
  },
  {
   "cell_type": "code",
   "execution_count": 73,
   "id": "0b3a58fb",
   "metadata": {},
   "outputs": [],
   "source": [
    "df['python_yn'] = df['Job Description'].apply(lambda x: 1 if 'python' in x.lower() else 0)"
   ]
  },
  {
   "cell_type": "code",
   "execution_count": 75,
   "id": "6055e054",
   "metadata": {},
   "outputs": [],
   "source": [
    "#df.python_yn.value_counts()"
   ]
  },
  {
   "cell_type": "code",
   "execution_count": 76,
   "id": "fbdbe36d",
   "metadata": {},
   "outputs": [],
   "source": [
    "df['R_yn'] = df['Job Description'].apply(lambda x: 1 if 'r studio' in x.lower() or 'r-studio' in x.lower()  else 0)"
   ]
  },
  {
   "cell_type": "code",
   "execution_count": 77,
   "id": "ae1a2ad1",
   "metadata": {},
   "outputs": [],
   "source": [
    "df['spark'] = df['Job Description'].apply(lambda x: 1 if 'spark' in x.lower() else 0)"
   ]
  },
  {
   "cell_type": "code",
   "execution_count": 78,
   "id": "a7ac84ce",
   "metadata": {},
   "outputs": [],
   "source": [
    "df['aws'] = df['Job Description'].apply(lambda x: 1 if 'aws' in x.lower() else 0)"
   ]
  },
  {
   "cell_type": "code",
   "execution_count": 79,
   "id": "ee816f9c",
   "metadata": {},
   "outputs": [],
   "source": [
    "df['excel'] = df['Job Description'].apply(lambda x: 1 if 'excel' in x.lower() else 0)"
   ]
  },
  {
   "cell_type": "code",
   "execution_count": 80,
   "id": "ba159444",
   "metadata": {},
   "outputs": [
    {
     "data": {
      "text/plain": [
       "Index(['Unnamed: 0', 'Job Title', 'Salary Estimate', 'Job Description',\n",
       "       'Rating', 'Company Name', 'Location', 'Headquarters', 'Size', 'Founded',\n",
       "       'Type of ownership', 'Industry', 'Sector', 'Revenue', 'Competitors',\n",
       "       'hourly', 'employer_provided', 'min_salary', 'max_salary', 'avg_salary',\n",
       "       'Company_txt', 'job state', 'job_state', 'same_state', 'age',\n",
       "       'python_yn', 'R_yn', 'spark', 'aws', 'excel'],\n",
       "      dtype='object')"
      ]
     },
     "execution_count": 80,
     "metadata": {},
     "output_type": "execute_result"
    }
   ],
   "source": [
    "df.columns"
   ]
  },
  {
   "cell_type": "code",
   "execution_count": 85,
   "id": "a712d002",
   "metadata": {},
   "outputs": [],
   "source": [
    "df_out = df.drop(['Unnamed: 0'],axis =1)"
   ]
  },
  {
   "cell_type": "code",
   "execution_count": null,
   "id": "648f74f1",
   "metadata": {},
   "outputs": [],
   "source": [
    "show_DataFrame(df)"
   ]
  },
  {
   "cell_type": "code",
   "execution_count": 82,
   "id": "c2f8a049",
   "metadata": {},
   "outputs": [],
   "source": [
    "df_out.to_csv('salary_data_cleaned.csv',index=False)"
   ]
  },
  {
   "cell_type": "code",
   "execution_count": 83,
   "id": "2a9178ba",
   "metadata": {},
   "outputs": [],
   "source": [
    "test = pd.read_csv('salary_data_cleaned.csv')"
   ]
  },
  {
   "cell_type": "code",
   "execution_count": null,
   "id": "3b5fe356",
   "metadata": {},
   "outputs": [],
   "source": []
  }
 ],
 "metadata": {
  "kernelspec": {
   "display_name": "Python 3 (ipykernel)",
   "language": "python",
   "name": "python3"
  },
  "language_info": {
   "codemirror_mode": {
    "name": "ipython",
    "version": 3
   },
   "file_extension": ".py",
   "mimetype": "text/x-python",
   "name": "python",
   "nbconvert_exporter": "python",
   "pygments_lexer": "ipython3",
   "version": "3.10.6"
  }
 },
 "nbformat": 4,
 "nbformat_minor": 5
}
